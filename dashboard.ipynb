{
 "cells": [
  {
   "cell_type": "code",
   "execution_count": 1,
   "id": "9b5167c3",
   "metadata": {},
   "outputs": [],
   "source": [
    "import pandas as pd"
   ]
  },
  {
   "cell_type": "code",
   "execution_count": null,
   "id": "2ecc806d",
   "metadata": {},
   "outputs": [],
   "source": [
    "df = pd.read_csv('microdados_ed_basica_2021.zip', compression='zip', sep=';',on_bad_lines = 'warn', encoding='latin-1',\n",
    "                 usecols = ['NO_REGIAO','NO_UF','NO_MUNICIPIO', 'NO_MESORREGIAO', 'TP_DEPENDENCIA', 'TP_CATEGORIA_ESCOLA_PRIVADA', 'TP_LOCALIZACAO', 'TP_LOCALIZACAO_DIFERENCIADA',\n",
    "                            'TP_SITUACAO_FUNCIONAMENTO', 'IN_LOCAL_FUNC_PREDIO_ESCOLAR', 'TP_OCUPACAO_PREDIO_ESCOLAR', 'IN_LOCAL_FUNC_SOCIOEDUCATIVO',\n",
    "                            'IN_LOCAL_FUNC_UNID_PRISIONAL', 'IN_LOCAL_FUNC_PRISIONAL_SOCIO', 'IN_LOCAL_FUNC_GALPAO','IN_AGUA_POTAVEL', 'IN_AGUA_REDE_PUBLICA', 'IN_AGUA_POCO_ARTESIANO', 'IN_AGUA_CACIMBA', 'IN_AGUA_FONTE_RIO', 'IN_AGUA_INEXISTENTE',\n",
    "                            'IN_ENERGIA_REDE_PUBLICA','IN_ENERGIA_INEXISTENTE', 'IN_ESGOTO_REDE_PUBLICA', 'IN_ESGOTO_INEXISTENTE', 'IN_LIXO_SERVICO_COLETA', 'IN_LIXO_QUEIMA', 'IN_LIXO_ENTERRA',\n",
    "                            'IN_LIXO_DESTINO_FINAL_PUBLICO', 'IN_LIXO_DESCARTA_OUTRA_AREA', 'IN_BANHEIRO', 'IN_BIBLIOTECA', 'IN_QUADRA_ESPORTES', 'IN_ACESSIBILIDADE_INEXISTENTE', 'IN_INTERNET',\n",
    "                            'QT_MAT_BAS_FEM', 'QT_MAT_BAS_MASC', 'QT_MAT_BAS_BRANCA', 'QT_MAT_BAS_PRETA', 'QT_MAT_BAS_INDIGENA', 'QT_MAT_BAS_PARDA'])\n"
   ]
  },
  {
   "cell_type": "code",
   "execution_count": null,
   "id": "97a68ee8",
   "metadata": {},
   "outputs": [],
   "source": [
    "df\n"
   ]
  },
  {
   "cell_type": "code",
   "execution_count": null,
   "id": "2f8bc893",
   "metadata": {},
   "outputs": [],
   "source": [
    "faltosos = df.isna().sum()\n",
    "faltosos.head(60)"
   ]
  },
  {
   "cell_type": "markdown",
   "id": "9b6e70a2",
   "metadata": {},
   "source": [
    "Apagando linhas com dados faltosos na coluna de matrículas femininas (na mesma linha não temos os dados sobre os outros tipos de matrículas)\n",
    "\n",
    "A quantidade de linhas sem informações em TP_CATEGORIA_ESCOLA_PRIVADA, são de escolas que não são privadas\n",
    "\n",
    "A quantidade de linhas sem informações em TP_OCUPACAO_PREDIO_ESCOLAR são para escolas que não ocupam prédio escolar"
   ]
  },
  {
   "cell_type": "code",
   "execution_count": null,
   "id": "b04f74b3",
   "metadata": {},
   "outputs": [],
   "source": [
    "df.dropna(subset=[\"QT_MAT_BAS_FEM\"], inplace=True)"
   ]
  },
  {
   "cell_type": "code",
   "execution_count": null,
   "id": "1073e4dc",
   "metadata": {},
   "outputs": [],
   "source": [
    "df.isna().sum().head(60)\n"
   ]
  },
  {
   "cell_type": "code",
   "execution_count": null,
   "id": "a568446e",
   "metadata": {},
   "outputs": [],
   "source": [
    "regioes = df[\"NO_REGIAO\"].values\n"
   ]
  },
  {
   "cell_type": "code",
   "execution_count": null,
   "id": "d29827a6",
   "metadata": {},
   "outputs": [],
   "source": [
    "df\n"
   ]
  },
  {
   "cell_type": "code",
   "execution_count": null,
   "id": "8ab6667b",
   "metadata": {},
   "outputs": [],
   "source": [
    "df.fillna(0,inplace=True)\n",
    "df\n"
   ]
  },
  {
   "cell_type": "code",
   "execution_count": null,
   "id": "0ba18eef",
   "metadata": {},
   "outputs": [],
   "source": [
    "pip install dash\n"
   ]
  },
  {
   "cell_type": "code",
   "execution_count": null,
   "id": "736eba99",
   "metadata": {},
   "outputs": [],
   "source": [
    "from dash import Dash,html,dcc\n",
    "import plotly.express as px"
   ]
  },
  {
   "cell_type": "code",
   "execution_count": null,
   "id": "67ee7a8f",
   "metadata": {},
   "outputs": [],
   "source": [
    "df.sort_values([\"TP_CATEGORIA_ESCOLA_PRIVADA\"])"
   ]
  },
  {
   "cell_type": "markdown",
   "id": "3f925ac0",
   "metadata": {},
   "source": [
    "A região com menos e a região com mais escolas privadas\n",
    "\n",
    "Contando o numero de cadastros de escolas por região"
   ]
  },
  {
   "cell_type": "code",
   "execution_count": null,
   "id": "f20fca8f",
   "metadata": {},
   "outputs": [],
   "source": [
    "series_v = df[\"NO_REGIAO\"].value_counts()\n",
    "series_v"
   ]
  },
  {
   "cell_type": "markdown",
   "id": "d65e14b3",
   "metadata": {},
   "source": [
    "Agora veficando quantas dessas são escolas privadas em cada região\n",
    "\n",
    "1) nordeste\n",
    "2) Sudeste\n",
    "3)Sul\n",
    "4)Norte\n",
    "5)Centro-oeste"
   ]
  },
  {
   "cell_type": "code",
   "execution_count": null,
   "id": "c30c4848",
   "metadata": {},
   "outputs": [],
   "source": [
    "df_nordeste = df[df[\"NO_REGIAO\"]==\"Nordeste\"]\n",
    "nordeste = df_nordeste[df_nordeste[\"TP_DEPENDENCIA\"] == 4]\n",
    "len(nordeste)"
   ]
  },
  {
   "cell_type": "code",
   "execution_count": null,
   "id": "b050328a",
   "metadata": {},
   "outputs": [],
   "source": [
    "df_sudeste = df[df[\"NO_REGIAO\"]==\"Sudeste\"]\n",
    "sudeste = df_sudeste[df_sudeste[\"TP_DEPENDENCIA\"] == 4]\n",
    "len(sudeste)\n"
   ]
  },
  {
   "cell_type": "code",
   "execution_count": null,
   "id": "b706a6fd",
   "metadata": {},
   "outputs": [],
   "source": [
    "df_sul = df[df[\"NO_REGIAO\"]==\"Sul\"]\n",
    "sul = df_sul[df_sul[\"TP_DEPENDENCIA\"] == 4]\n",
    "len(sul)"
   ]
  },
  {
   "cell_type": "code",
   "execution_count": null,
   "id": "32802fef",
   "metadata": {},
   "outputs": [],
   "source": [
    "df_norte = df[df[\"NO_REGIAO\"]==\"Norte\"]\n",
    "norte = df_norte[df_norte[\"TP_DEPENDENCIA\"] == 4]\n",
    "len(norte)\n"
   ]
  },
  {
   "cell_type": "code",
   "execution_count": null,
   "id": "d895384b",
   "metadata": {},
   "outputs": [],
   "source": [
    "df_CentroOeste = df[df[\"NO_REGIAO\"]==\"Centro-Oeste\"]\n",
    "CentroOeste = df_CentroOeste[df_CentroOeste[\"TP_DEPENDENCIA\"] == 4]\n",
    "len(CentroOeste)"
   ]
  },
  {
   "cell_type": "code",
   "execution_count": null,
   "id": "1c63a05b",
   "metadata": {},
   "outputs": [],
   "source": [
    "hfreq = pd.DataFrame(series_v)\n",
    "hfreq.rename(columns={'NO_REGIAO': 'QTD_ESCOLAS'},inplace=True)\n",
    "hfreq[\"QTD_ESCOLAS_PARTICULARES\"] = [len(nordeste),\n",
    "                                     len(sudeste),\n",
    "                                     len(sul), \n",
    "                                     len(norte), \n",
    "                                     len(CentroOeste)]\n",
    "hfreq[\"QTD_ESCOLAS_PUBLICAS\"] = [len(df_nordeste[\"NO_REGIAO\"])-len(nordeste),\n",
    "                                len(df_sudeste[\"NO_REGIAO\"])-len(sudeste),\n",
    "                                len(df_sul[\"NO_REGIAO\"])-len(sul), \n",
    "                                len(df_norte[\"NO_REGIAO\"])-len(norte), \n",
    "                                len(df_CentroOeste[\"NO_REGIAO\"])-len(CentroOeste)]\n",
    "hfreq[\"QTD_ESCOLAS_PARTICULARES\"] = [len(nordeste), len(sudeste), len(sul), len(norte), len(CentroOeste)]\n",
    "hfreq[\"FREQ_REL_ESCOLAS_PARTICULARES\"] = hfreq[\"QTD_ESCOLAS_PARTICULARES\"]/hfreq[\"QTD_ESCOLAS\"]*100\n",
    "hfreq"
   ]
  },
  {
   "cell_type": "markdown",
   "id": "8ece984f",
   "metadata": {},
   "source": [
    "ANALISANDO TOTAL DE ESCOLAR PARTICULARES NO BRASIL COMO UM TODO"
   ]
  },
  {
   "cell_type": "code",
   "execution_count": null,
   "id": "466d4359",
   "metadata": {},
   "outputs": [],
   "source": [
    "dados_escolas_particulares_brasil = [[hfreq[\"QTD_ESCOLAS\"].sum(), hfreq[\"QTD_ESCOLAS_PARTICULARES\"].sum(), hfreq[\"QTD_ESCOLAS_PARTICULARES\"].sum()/hfreq[\"QTD_ESCOLAS\"].sum()*100]]\n",
    "\n",
    "dados_escolas_particulares_brasil = pd.DataFrame(dados_escolas_particulares_brasil, columns=['QTD_ESCOLAS', 'QTD_ESCOLAS_PARTICULARES', 'FREQ_REL_ESCOLAS_PARTICULARES'])\n",
    "\n",
    "dados_escolas_particulares_brasil.rename(index={0:'Brasil'},inplace=True)\n",
    "\n",
    "dados_escolas_particulares_brasil"
   ]
  },
  {
   "cell_type": "markdown",
   "id": "f226f9f3",
   "metadata": {},
   "source": [
    "ANALISANDO AS ESCOLAS PARTICULARES NO ESTADO DA PARAÍBA"
   ]
  },
  {
   "cell_type": "code",
   "execution_count": null,
   "id": "4f4902e9",
   "metadata": {},
   "outputs": [],
   "source": [
    "df_PB = df[df[\"NO_UF\"]==\"Paraíba\"]\n",
    "total_esc_pb = len(df_PB)\n",
    "pb = df_PB[df_PB[\"TP_DEPENDENCIA\"] == 4]\n",
    "total_part_pb = len(pb)\n",
    "\n",
    "print(total_esc_pb, total_part_pb)"
   ]
  },
  {
   "cell_type": "code",
   "execution_count": null,
   "id": "cd4d4982",
   "metadata": {},
   "outputs": [],
   "source": [
    "dados_escolas_particulares_pb = [[total_esc_pb, total_part_pb, total_part_pb/total_esc_pb*100]]\n",
    "\n",
    "dados_escolas_particulares_pb= pd.DataFrame(dados_escolas_particulares_pb, columns=['QTD_ESCOLAS', 'QTD_ESCOLAS_PARTICULARES', 'FREQ_REL_ESCOLAS_PARTICULARES'])\n",
    "\n",
    "dados_escolas_particulares_pb.rename(index={0:'Paraíba'},inplace=True)\n",
    "\n",
    "dados_escolas_particulares_pb"
   ]
  },
  {
   "cell_type": "markdown",
   "id": "ad97797c",
   "metadata": {},
   "source": [
    "AGORA VAMOS ANALISAR OS DADOS, POR REGIAO, SE HÁ O FORNECIMENTO DE ÁGUA POTÁVEL PARA CONSUMO HUMANO EM CADA REGIAO"
   ]
  },
  {
   "cell_type": "markdown",
   "id": "17b9bf57",
   "metadata": {},
   "source": [
    "1) nordeste 2) Sudeste 3)Sul 4)Norte 5)Centro-oeste"
   ]
  },
  {
   "cell_type": "code",
   "execution_count": null,
   "id": "8dfaab4e",
   "metadata": {},
   "outputs": [],
   "source": [
    "df_nordeste_agua = df[df[\"NO_REGIAO\"]==\"Nordeste\"]\n",
    "nordeste_agua = df_nordeste_agua[df_nordeste_agua[\"IN_AGUA_POTAVEL\"] == 1]\n",
    "len(nordeste_agua)"
   ]
  },
  {
   "cell_type": "code",
   "execution_count": null,
   "id": "8574b456",
   "metadata": {},
   "outputs": [],
   "source": [
    "df_sudeste_agua = df[df[\"NO_REGIAO\"]==\"Sudeste\"]\n",
    "sudeste_agua = df_sudeste_agua[df_sudeste_agua[\"IN_AGUA_POTAVEL\"] == 1]\n",
    "len(sudeste_agua)"
   ]
  },
  {
   "cell_type": "code",
   "execution_count": null,
   "id": "a8e9c3cf",
   "metadata": {},
   "outputs": [],
   "source": [
    "df_sul_agua = df[df[\"NO_REGIAO\"]==\"Sul\"]\n",
    "sul_agua = df_sul_agua[df_sul_agua[\"IN_AGUA_POTAVEL\"] == 1]\n",
    "len(sul_agua)"
   ]
  },
  {
   "cell_type": "code",
   "execution_count": null,
   "id": "31fa22f7",
   "metadata": {},
   "outputs": [],
   "source": [
    "df_norte_agua = df[df[\"NO_REGIAO\"]==\"Norte\"]\n",
    "norte_agua = df_norte_agua[df_norte_agua[\"IN_AGUA_POTAVEL\"] == 1]\n",
    "len(norte_agua)"
   ]
  },
  {
   "cell_type": "code",
   "execution_count": null,
   "id": "3828cfe6",
   "metadata": {},
   "outputs": [],
   "source": [
    "df_co_agua = df[df[\"NO_REGIAO\"]==\"Centro-Oeste\"]\n",
    "co_agua = df_co_agua[df_co_agua[\"IN_AGUA_POTAVEL\"] == 1]\n",
    "len(co_agua)"
   ]
  },
  {
   "cell_type": "code",
   "execution_count": null,
   "id": "e65864cf",
   "metadata": {},
   "outputs": [],
   "source": [
    "hfreq_agua = pd.DataFrame(series_v)\n",
    "hfreq_agua.rename(columns={'NO_REGIAO': 'QTD_TOTAL_ESCOLAS'},inplace=True)\n",
    "hfreq_agua[\"QTD_ESCOLAS_AGUA_POTAVEL\"] = [len(nordeste_agua), len(sudeste_agua), len(sul_agua), len(norte_agua),\n",
    "                                     len(co_agua)]\n",
    "hfreq_agua[\"FREQ_REL_AGUA_POTAVEL\"] = hfreq_agua[\"QTD_ESCOLAS_AGUA_POTAVEL\"]/hfreq_agua[\"QTD_TOTAL_ESCOLAS\"]*100\n",
    "hfreq_agua"
   ]
  },
  {
   "cell_type": "markdown",
   "id": "02c83dec",
   "metadata": {},
   "source": [
    "VAMOS ANALISAR A FREQUENCIA DE AGUA POTÁVEL NO BRASIL COMO UM TODO"
   ]
  },
  {
   "cell_type": "code",
   "execution_count": null,
   "id": "d122b9ea",
   "metadata": {},
   "outputs": [],
   "source": [
    "dados_escolas_agua_brasil = [[hfreq_agua[\"QTD_TOTAL_ESCOLAS\"].sum(), hfreq_agua[\"QTD_ESCOLAS_AGUA_POTAVEL\"].sum(), hfreq_agua[\"QTD_ESCOLAS_AGUA_POTAVEL\"].sum()/hfreq_agua[\"QTD_TOTAL_ESCOLAS\"].sum()*100]]\n",
    "\n",
    "dados_escolas_agua_brasil  = pd.DataFrame(dados_escolas_agua_brasil, columns=['QTD_TOTAL_ESCOLAS', 'QTD_ESCOLAS_AGUA_POTAVEL', 'FREQ_REL_AGUA_POTAVEL'])\n",
    "\n",
    "dados_escolas_agua_brasil.rename(index={0:'Brasil'},inplace=True)\n",
    "\n",
    "dados_escolas_agua_brasil "
   ]
  },
  {
   "cell_type": "markdown",
   "id": "4e90f341",
   "metadata": {},
   "source": [
    "VAMOS ANALISAR A FREQUENCIA DE AGUA POTÁVEL NA PARAIBA"
   ]
  },
  {
   "cell_type": "code",
   "execution_count": null,
   "id": "bdf94bd2",
   "metadata": {},
   "outputs": [],
   "source": [
    "df_PB = df[df[\"NO_UF\"]==\"Paraíba\"]\n",
    "total_esc_pb = len(df_PB)\n",
    "pb = df_PB[df_PB[\"IN_AGUA_POTAVEL\"] == 1]\n",
    "total_agua_pb = len(pb)\n",
    "\n",
    "print(total_esc_pb, total_agua_pb)"
   ]
  },
  {
   "cell_type": "code",
   "execution_count": null,
   "id": "1a26e1ad",
   "metadata": {},
   "outputs": [],
   "source": [
    "dados_escolas_agua_pb = [[total_esc_pb, total_agua_pb, total_agua_pb/total_esc_pb*100]]\n",
    "\n",
    "dados_escolas_agua_pb= pd.DataFrame(dados_escolas_agua_pb, columns=['QTD_TOTAL_ESCOLAS', 'QTD_ESCOLAS_AGUA_POTAVEL', 'FREQ_REL_AGUA_POTAVEL'])\n",
    "\n",
    "dados_escolas_agua_pb.rename(index={0:'Paraíba'},inplace=True)\n",
    "\n",
    "dados_escolas_agua_pb"
   ]
  },
  {
   "cell_type": "markdown",
   "id": "885abe20",
   "metadata": {},
   "source": [
    "ABASTECIMENTO DE ENERGIA - REDE PUBLICA NAS ESCOLAS - REGIAO\n",
    "\n",
    "1) nordeste 2) Sudeste 3)Sul 4)Norte 5)Centro-oeste"
   ]
  },
  {
   "cell_type": "code",
   "execution_count": null,
   "id": "5b5ab855",
   "metadata": {},
   "outputs": [],
   "source": [
    "df_nordeste_energia = df[df[\"NO_REGIAO\"]==\"Nordeste\"]\n",
    "nordeste_energia = df_nordeste_energia[df_nordeste_energia[\"IN_ENERGIA_REDE_PUBLICA\"] == 1]\n",
    "len(nordeste_energia)"
   ]
  },
  {
   "cell_type": "code",
   "execution_count": null,
   "id": "71e03724",
   "metadata": {},
   "outputs": [],
   "source": [
    "df_sudeste_energia = df[df[\"NO_REGIAO\"]==\"Sudeste\"]\n",
    "sudeste_energia = df_sudeste_energia[df_sudeste_energia[\"IN_ENERGIA_REDE_PUBLICA\"] == 1]\n",
    "len(sudeste_energia)"
   ]
  },
  {
   "cell_type": "code",
   "execution_count": null,
   "id": "2c870f2a",
   "metadata": {},
   "outputs": [],
   "source": [
    "df_sul_energia = df[df[\"NO_REGIAO\"]==\"Sul\"]\n",
    "sul_energia = df_sul_energia[df_sul_energia[\"IN_ENERGIA_REDE_PUBLICA\"] == 1]\n",
    "len(sul_energia)"
   ]
  },
  {
   "cell_type": "code",
   "execution_count": null,
   "id": "baa18c86",
   "metadata": {},
   "outputs": [],
   "source": [
    "df_norte_energia = df[df[\"NO_REGIAO\"]==\"Norte\"]\n",
    "norte_energia = df_norte_energia[df_norte_energia[\"IN_ENERGIA_REDE_PUBLICA\"] == 1]\n",
    "len(norte_energia)"
   ]
  },
  {
   "cell_type": "code",
   "execution_count": null,
   "id": "293cd93d",
   "metadata": {},
   "outputs": [],
   "source": [
    "df_co_energia = df[df[\"NO_REGIAO\"]==\"Centro-Oeste\"]\n",
    "co_energia = df_co_energia[df_co_energia[\"IN_ENERGIA_REDE_PUBLICA\"] == 1]\n",
    "len(co_energia)"
   ]
  },
  {
   "cell_type": "code",
   "execution_count": null,
   "id": "34716121",
   "metadata": {},
   "outputs": [],
   "source": [
    "hfreq_energia = pd.DataFrame(series_v)\n",
    "hfreq_energia.rename(columns={'NO_REGIAO': 'QTD_TOTAL_ESCOLAS'},inplace=True)\n",
    "hfreq_energia[\"QTD_ESCOLAS_ABASTECIMENTO_ENERGIA\"] = [len(nordeste_energia), len(sudeste_energia), len(sul_energia), len(norte_energia),\n",
    "                                     len(co_energia)]\n",
    "hfreq_energia[\"FREQ_REL_ABASTECIMENTO_ENERGIA\"] = hfreq_energia[\"QTD_ESCOLAS_ABASTECIMENTO_ENERGIA\"]/hfreq_energia[\"QTD_TOTAL_ESCOLAS\"]*100\n",
    "hfreq_energia"
   ]
  },
  {
   "cell_type": "markdown",
   "id": "8edb2a92",
   "metadata": {},
   "source": [
    "ABASTECIMENTO DE ENERGIA - REDE PUBLICA NAS ESCOLAS - BRASIL"
   ]
  },
  {
   "cell_type": "code",
   "execution_count": null,
   "id": "d46b8a6b",
   "metadata": {},
   "outputs": [],
   "source": [
    "dados_escolas_energia_brasil = [[hfreq_energia[\"QTD_TOTAL_ESCOLAS\"].sum(), hfreq_energia[\"QTD_ESCOLAS_ABASTECIMENTO_ENERGIA\"].sum(), hfreq_energia[\"QTD_ESCOLAS_ABASTECIMENTO_ENERGIA\"].sum()/hfreq_energia[\"QTD_TOTAL_ESCOLAS\"].sum()*100]]\n",
    "\n",
    "dados_escolas_energia_brasil  = pd.DataFrame(dados_escolas_energia_brasil, columns=['QTD_TOTAL_ESCOLAS', 'QTD_ESCOLAS_ABASTECIMENTO_ENERGIA', 'FREQ_REL_ABASTECIMENTO_ENERGIA'])\n",
    "\n",
    "dados_escolas_energia_brasil.rename(index={0:'Brasil'},inplace=True)\n",
    "\n",
    "dados_escolas_energia_brasil "
   ]
  },
  {
   "cell_type": "markdown",
   "id": "dad7bf16",
   "metadata": {},
   "source": [
    "ABASTECIMENTO DE ENERGIA - REDE PUBLICA NAS ESCOLAS - PARAIBA"
   ]
  },
  {
   "cell_type": "code",
   "execution_count": null,
   "id": "5d4c1701",
   "metadata": {},
   "outputs": [],
   "source": [
    "df_PB = df[df[\"NO_UF\"]==\"Paraíba\"]\n",
    "total_esc_pb = len(df_PB)\n",
    "pb = df_PB[df_PB[\"IN_ENERGIA_REDE_PUBLICA\"] == 1]\n",
    "total_energia_pb = len(pb)\n",
    "\n",
    "print(total_esc_pb, total_energia_pb)"
   ]
  },
  {
   "cell_type": "code",
   "execution_count": null,
   "id": "36c666ad",
   "metadata": {},
   "outputs": [],
   "source": [
    "dados_escolas_energia_pb = [[total_esc_pb, total_energia_pb, total_energia_pb/total_esc_pb*100]]\n",
    "\n",
    "dados_escolas_energia_pb= pd.DataFrame(dados_escolas_energia_pb, columns=['QTD_TOTAL_ESCOLAS', 'QTD_ESCOLAS_ABASTECIMENTO_ENERGIA', 'FREQ_REL_ABASTECIMENTO_ENERGIA'])\n",
    "\n",
    "dados_escolas_energia_pb.rename(index={0:'Paraíba'},inplace=True)\n",
    "\n",
    "dados_escolas_energia_pb"
   ]
  },
  {
   "cell_type": "markdown",
   "id": "c11a8757",
   "metadata": {},
   "source": [
    "ACESSO A INTERNET - ESCOLAS - REGIOES\n",
    "\n",
    "1) nordeste 2) Sudeste 3)Sul 4)Norte 5)Centro-oeste"
   ]
  },
  {
   "cell_type": "code",
   "execution_count": null,
   "id": "0c9254fd",
   "metadata": {},
   "outputs": [],
   "source": [
    "df_nordeste_internet = df[df[\"NO_REGIAO\"]==\"Nordeste\"]\n",
    "nordeste_internet = df_nordeste_internet[df_nordeste_internet[\"IN_INTERNET\"] == 1]\n",
    "len(nordeste_internet)"
   ]
  },
  {
   "cell_type": "code",
   "execution_count": null,
   "id": "0427032f",
   "metadata": {},
   "outputs": [],
   "source": [
    "df_sudeste_internet = df[df[\"NO_REGIAO\"]==\"Sudeste\"]\n",
    "sudeste_internet = df_sudeste_internet[df_sudeste_internet[\"IN_INTERNET\"] == 1]\n",
    "len(sudeste_internet)"
   ]
  },
  {
   "cell_type": "code",
   "execution_count": null,
   "id": "610b9634",
   "metadata": {},
   "outputs": [],
   "source": [
    "df_sul_internet = df[df[\"NO_REGIAO\"]==\"Sul\"]\n",
    "sul_internet = df_sul_internet[df_sul_internet[\"IN_INTERNET\"] == 1]\n",
    "len(sul_internet)"
   ]
  },
  {
   "cell_type": "code",
   "execution_count": null,
   "id": "6716847f",
   "metadata": {},
   "outputs": [],
   "source": [
    "df_norte_internet = df[df[\"NO_REGIAO\"]==\"Norte\"]\n",
    "norte_internet = df_norte_internet[df_norte_internet[\"IN_INTERNET\"] == 1]\n",
    "len(norte_internet)"
   ]
  },
  {
   "cell_type": "code",
   "execution_count": null,
   "id": "8f3cb59a",
   "metadata": {},
   "outputs": [],
   "source": [
    "df_co_internet = df[df[\"NO_REGIAO\"]==\"Centro-Oeste\"]\n",
    "co_internet = df_co_internet[df_co_internet[\"IN_INTERNET\"] == 1]\n",
    "len(co_internet)"
   ]
  },
  {
   "cell_type": "code",
   "execution_count": null,
   "id": "114cf717",
   "metadata": {},
   "outputs": [],
   "source": [
    "hfreq_internet = pd.DataFrame(series_v)\n",
    "hfreq_internet.rename(columns={'NO_REGIAO': 'QTD_TOTAL_ESCOLAS'},inplace=True)\n",
    "hfreq_internet[\"QTD_ESCOLAS_ACESSO_INTERNET\"] = [len(nordeste_internet), len(sudeste_internet), len(sul_internet), len(norte_internet),\n",
    "                                     len(co_internet)]\n",
    "hfreq_internet[\"FREQ_REL_ACESSO_INTERNET\"] = hfreq_internet[\"QTD_ESCOLAS_ACESSO_INTERNET\"]/hfreq_internet[\"QTD_TOTAL_ESCOLAS\"]*100\n",
    "hfreq_internet"
   ]
  },
  {
   "cell_type": "markdown",
   "id": "71fb8272",
   "metadata": {},
   "source": [
    "ACESSO A INTERNET - ESCOLAS - BRASIL\n"
   ]
  },
  {
   "cell_type": "code",
   "execution_count": null,
   "id": "bcad00b9",
   "metadata": {},
   "outputs": [],
   "source": [
    "dados_escolas_internet_brasil = [[hfreq_internet[\"QTD_TOTAL_ESCOLAS\"].sum(), hfreq_internet[\"QTD_ESCOLAS_ACESSO_INTERNET\"].sum(), hfreq_internet[\"QTD_ESCOLAS_ACESSO_INTERNET\"].sum()/hfreq_internet[\"QTD_TOTAL_ESCOLAS\"].sum()*100]]\n",
    "\n",
    "dados_escolas_internet_brasil  = pd.DataFrame(dados_escolas_internet_brasil, columns=['QTD_TOTAL_ESCOLAS', 'QTD_ESCOLAS_ACESSO_INTERNET', 'FREQ_REL_ACESSO_INTERNET'])\n",
    "\n",
    "dados_escolas_internet_brasil.rename(index={0:'Brasil'},inplace=True)\n",
    "\n",
    "dados_escolas_internet_brasil "
   ]
  },
  {
   "cell_type": "markdown",
   "id": "aef81735",
   "metadata": {},
   "source": [
    "ACESSO A INTERNET - ESCOLAS - PARAIBA"
   ]
  },
  {
   "cell_type": "code",
   "execution_count": null,
   "id": "cda4062a",
   "metadata": {},
   "outputs": [],
   "source": [
    "df_PB = df[df[\"NO_UF\"]==\"Paraíba\"]\n",
    "total_esc_pb = len(df_PB)\n",
    "pb = df_PB[df_PB[\"IN_INTERNET\"] == 1]\n",
    "total_internet_pb = len(pb)\n",
    "\n",
    "print(total_esc_pb, total_internet_pb)"
   ]
  },
  {
   "cell_type": "code",
   "execution_count": null,
   "id": "e4d48c96",
   "metadata": {},
   "outputs": [],
   "source": [
    "dados_escolas_internet_pb = [[total_esc_pb, total_internet_pb, total_internet_pb/total_esc_pb*100]]\n",
    "\n",
    "dados_escolas_internet_pb= pd.DataFrame(dados_escolas_internet_pb, columns=['QTD_TOTAL_ESCOLAS', 'QTD_ESCOLAS_ACESSO_INTERNET', 'FREQ_REL_ACESSO_INTERNET'])\n",
    "\n",
    "dados_escolas_internet_pb.rename(index={0:'Paraíba'},inplace=True)\n",
    "\n",
    "dados_escolas_internet_pb"
   ]
  },
  {
   "cell_type": "markdown",
   "id": "eeac0132",
   "metadata": {},
   "source": [
    "ANALISE DEPENDENCIAS FISICAS (BIBLIOTECA) NAS ESCOLAS - REGIÕES\n",
    "\n",
    "1) nordeste 2) Sudeste 3)Sul 4)Norte 5)Centro-oeste"
   ]
  },
  {
   "cell_type": "code",
   "execution_count": null,
   "id": "5eae668f",
   "metadata": {},
   "outputs": [],
   "source": [
    "df_nordeste_bib = df[df[\"NO_REGIAO\"]==\"Nordeste\"]\n",
    "nordeste_bib = df_nordeste_bib[df_nordeste_bib[\"IN_BIBLIOTECA\"] == 1]\n",
    "len(nordeste_bib)"
   ]
  },
  {
   "cell_type": "code",
   "execution_count": null,
   "id": "8e5f527b",
   "metadata": {},
   "outputs": [],
   "source": [
    "df_sudeste_bib = df[df[\"NO_REGIAO\"]==\"Sudeste\"]\n",
    "sudeste_bib = df_sudeste_bib[df_sudeste_bib[\"IN_BIBLIOTECA\"] == 1]\n",
    "len(sudeste_bib)"
   ]
  },
  {
   "cell_type": "code",
   "execution_count": null,
   "id": "070e350c",
   "metadata": {},
   "outputs": [],
   "source": [
    "df_sul_bib = df[df[\"NO_REGIAO\"]==\"Sul\"]\n",
    "sul_bib = df_sul_bib[df_sul_bib[\"IN_BIBLIOTECA\"] == 1]\n",
    "len(sul_bib)"
   ]
  },
  {
   "cell_type": "code",
   "execution_count": null,
   "id": "a9f15322",
   "metadata": {},
   "outputs": [],
   "source": [
    "df_norte_bib = df[df[\"NO_REGIAO\"]==\"Norte\"]\n",
    "norte_bib = df_norte_bib[df_norte_bib[\"IN_BIBLIOTECA\"] == 1]\n",
    "len(norte_bib)"
   ]
  },
  {
   "cell_type": "code",
   "execution_count": null,
   "id": "ee862edc",
   "metadata": {},
   "outputs": [],
   "source": [
    "df_co_bib = df[df[\"NO_REGIAO\"]==\"Centro-Oeste\"]\n",
    "co_bib = df_co_bib[df_co_bib[\"IN_BIBLIOTECA\"] == 1]\n",
    "len(co_bib)"
   ]
  },
  {
   "cell_type": "code",
   "execution_count": null,
   "id": "8292a99b",
   "metadata": {},
   "outputs": [],
   "source": [
    "hfreq_bib = pd.DataFrame(series_v)\n",
    "hfreq_bib.rename(columns={'NO_REGIAO': 'QTD_TOTAL_ESCOLAS'},inplace=True)\n",
    "hfreq_bib[\"QTD_ESCOLAS_COM_BIBLIOTECA\"] = [len(nordeste_bib), len(sudeste_bib), len(sul_bib), len(norte_bib),\n",
    "                                     len(co_bib)]\n",
    "hfreq_bib[\"FREQ_REL_ESC_BIBLIOTECA\"] = hfreq_bib[\"QTD_ESCOLAS_COM_BIBLIOTECA\"]/hfreq_bib[\"QTD_TOTAL_ESCOLAS\"]*100\n",
    "hfreq_bib"
   ]
  },
  {
   "cell_type": "markdown",
   "id": "b8f037b0",
   "metadata": {},
   "source": [
    "ANALISE DEPENDENCIAS FISICAS (BIBLIOTECA) NAS ESCOLAS - BRASIL"
   ]
  },
  {
   "cell_type": "code",
   "execution_count": null,
   "id": "64785b1d",
   "metadata": {},
   "outputs": [],
   "source": [
    "dados_escolas_bib_brasil = [[hfreq_bib[\"QTD_TOTAL_ESCOLAS\"].sum(), hfreq_bib[\"QTD_ESCOLAS_COM_BIBLIOTECA\"].sum(), hfreq_bib[\"QTD_ESCOLAS_COM_BIBLIOTECA\"].sum()/hfreq_bib[\"QTD_TOTAL_ESCOLAS\"].sum()*100]]\n",
    "\n",
    "dados_escolas_bib_brasil  = pd.DataFrame(dados_escolas_bib_brasil, columns=['QTD_TOTAL_ESCOLAS', 'QTD_ESCOLAS_COM_BIBLIOTECA', 'FREQ_REL_ESC_BIBLIOTECA'])\n",
    "\n",
    "dados_escolas_bib_brasil.rename(index={0:'Brasil'},inplace=True)\n",
    "\n",
    "dados_escolas_bib_brasil "
   ]
  },
  {
   "cell_type": "markdown",
   "id": "0c944b09",
   "metadata": {},
   "source": [
    "ANALISE DEPENDENCIAS FISICAS (BIBLIOTECA) NAS ESCOLAS - PARAIBA"
   ]
  },
  {
   "cell_type": "code",
   "execution_count": null,
   "id": "adf2f971",
   "metadata": {},
   "outputs": [],
   "source": [
    "df_PB = df[df[\"NO_UF\"]==\"Paraíba\"]\n",
    "total_esc_pb = len(df_PB)\n",
    "pb = df_PB[df_PB[\"IN_BIBLIOTECA\"] == 1]\n",
    "total_bib_pb = len(pb)\n",
    "\n",
    "print(total_esc_pb, total_bib_pb)"
   ]
  },
  {
   "cell_type": "code",
   "execution_count": null,
   "id": "0173ff23",
   "metadata": {},
   "outputs": [],
   "source": [
    "dados_escolas_bib_pb = [[total_esc_pb, total_bib_pb, total_bib_pb/total_esc_pb*100]]\n",
    "\n",
    "dados_escolas_bib_pb= pd.DataFrame(dados_escolas_bib_pb, columns=['QTD_TOTAL_ESCOLAS', 'QTD_ESCOLAS_COM_BIBLIOTECA', 'FREQ_REL_ESC_BIBLIOTECA'])\n",
    "\n",
    "dados_escolas_bib_pb.rename(index={0:'Paraíba'},inplace=True)\n",
    "\n",
    "dados_escolas_bib_pb"
   ]
  },
  {
   "cell_type": "code",
   "execution_count": null,
   "id": "09c482f3",
   "metadata": {},
   "outputs": [],
   "source": [
    "from dash import Dash,html,dcc,Input,Output\n",
    "\n",
    "app = Dash(__name__)\n",
    "\n",
    "fig = px.bar(hfreq, x=hfreq.index,y=[\"QTD_ESCOLAS_PARTICULARES\", \"FREQ_REL_ESCOLAS_PARTICULARES\"],\n",
    "             barmode=\"group\", text_auto=True).update_layout(\n",
    "    title={\"text\": \"Escolas particulares por região\", \"x\": 0.5},\n",
    "    yaxis_title=\"Quantidade de escolas particulares por região\"\n",
    ")\n",
    "\n",
    "grafico_agua_potavel = px.bar(hfreq_agua, x=hfreq_agua.index, y=[\"QTD_ESCOLAS_AGUA_POTAVEL\", \"FREQ_REL_AGUA_POTAVEL\"]\n",
    "                              ,barmode=\"group\",  text_auto=True).update_layout(\n",
    "    title={\"text\": \"Escolas com água potável por região\", \"x\": 0.5},\n",
    "    yaxis_title=\"Quantidade de escolas com água potável por região\"\n",
    ")\n",
    "\n",
    "grafico_energia_regioes = px.bar(hfreq_energia, x=hfreq_energia.index, y=[\"QTD_ESCOLAS_ABASTECIMENTO_ENERGIA\", \n",
    "                        \"FREQ_REL_ABASTECIMENTO_ENERGIA\"],barmode=\"group\",  text_auto=True).update_layout(\n",
    "    title={\"text\": \"Escolas com abastecimento de energia por região\", \"x\": 0.5},\n",
    "    yaxis_title=\"Quantidade de escolas com abastecimento de energia por região\"\n",
    ")\n",
    "\n",
    "grafico_internet_regioes = px.bar(hfreq_internet, x=hfreq_internet.index, y=[\"QTD_ESCOLAS_ACESSO_INTERNET\", \n",
    "                        \"FREQ_REL_ACESSO_INTERNET\"],barmode=\"group\",  text_auto=True).update_layout(\n",
    "    title={\"text\": \"Escolas com acesso a internet por região\", \"x\": 0.5},\n",
    "    yaxis_title=\"Quantidade de escolas com acesso a internet por região\"\n",
    ")\n",
    "\n",
    "grafico_biblioteca_regioes = px.bar(hfreq_bib, x=hfreq_bib.index, y=[\"QTD_ESCOLAS_COM_BIBLIOTECA\", \n",
    "                        \"FREQ_REL_ESC_BIBLIOTECA\"],barmode=\"group\",  text_auto=True).update_layout(\n",
    "    title={\"text\": \"Escolas com biblioteca por região\", \"x\": 0.5},\n",
    "    yaxis_title=\"Quantidade de escolas com biblioteca por região\"\n",
    ")\n",
    "\n",
    "\n",
    "\n",
    "app.layout = html.Div(children=[\n",
    "    dcc.Dropdown(['QTD_ESCOLAS_PARTICULARES', 'QTD_ESCOLAS_PUBLICAS'], 'QTD_ESCOLAS_PUBLICAS', id='tipo_escola'),\n",
    "    html.H1(children='DADOS NAS REGIÕES'),\n",
    "    html.Div(children='''\n",
    "        Dash: A web application framework for your data.\n",
    "    '''),\n",
    "    dcc.Graph(\n",
    "        id='escola_regioes',\n",
    "        figure= fig\n",
    "    ),\n",
    "    \n",
    "    dcc.Graph(\n",
    "        id=\"agua_potavel\",\n",
    "        figure = grafico_agua_potavel\n",
    "    )\n",
    "    \n",
    "    dcc.Graph(\n",
    "        id=\"energia\",\n",
    "        figure = grafico_energia_regioes\n",
    "    )\n",
    "    \n",
    "    dcc.Graph(\n",
    "        id=\"internet\",\n",
    "        figure = grafico_internet_regioes\n",
    "    )\n",
    "    \n",
    "    dcc.Graph(\n",
    "        id=\"biblioteca\",\n",
    "        figure = grafico_biblioteca_regioes\n",
    "    )\n",
    "    \n",
    "    \n",
    "])\n",
    "@app.callback(\n",
    "    Output('escola_regioes', 'figure'),\n",
    "    Input('tipo_escola', 'value')\n",
    ")\n",
    "def update_output(value):\n",
    "    fig =px.bar(hfreq, x=hfreq.index,y=\"value\",barmode=\"group\")\n",
    "    return fig\n",
    "\n",
    "if __name__ == '__main__':\n",
    "    app.run_server()"
   ]
  },
  {
   "cell_type": "code",
   "execution_count": null,
   "id": "8719929c",
   "metadata": {},
   "outputs": [],
   "source": []
  }
 ],
 "metadata": {
  "kernelspec": {
   "display_name": "Python 3",
   "language": "python",
   "name": "python3"
  },
  "language_info": {
   "codemirror_mode": {
    "name": "ipython",
    "version": 3
   },
   "file_extension": ".py",
   "mimetype": "text/x-python",
   "name": "python",
   "nbconvert_exporter": "python",
   "pygments_lexer": "ipython3",
   "version": "3.9.7"
  }
 },
 "nbformat": 4,
 "nbformat_minor": 5
}
